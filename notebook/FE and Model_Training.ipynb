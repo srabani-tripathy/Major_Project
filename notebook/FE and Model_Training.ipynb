{
 "cells": [
  {
   "cell_type": "markdown",
   "metadata": {},
   "source": [
    "#### 1.Feature Engineering\n",
    "- importing libraries\n",
    "- loading dataset\n",
    "- dropping irrelevant columns"
   ]
  },
  {
   "cell_type": "markdown",
   "metadata": {},
   "source": [
    "#### 1.1 Importing libraries"
   ]
  },
  {
   "cell_type": "code",
   "execution_count": 1,
   "metadata": {},
   "outputs": [],
   "source": [
    "import pandas as pd\n",
    "import numpy as np\n",
    "from sklearn.preprocessing import StandardScaler\n",
    "from sklearn.impute import KNNImputer\n",
    "from scipy import stats\n",
    "from sklearn.preprocessing import LabelEncoder,OneHotEncoder"
   ]
  },
  {
   "cell_type": "markdown",
   "metadata": {},
   "source": [
    "#### 1.2 Loading dataste"
   ]
  },
  {
   "cell_type": "code",
   "execution_count": 2,
   "metadata": {},
   "outputs": [],
   "source": [
    "df = pd.read_csv('data/urban.csv')"
   ]
  },
  {
   "cell_type": "markdown",
   "metadata": {},
   "source": [
    "#### 1.3 Dropping columns"
   ]
  },
  {
   "cell_type": "code",
   "execution_count": 3,
   "metadata": {},
   "outputs": [],
   "source": [
    "df = df.drop(columns=\n",
    "                    [\n",
    "                    'datetime', 'sunrise', 'sunset', \n",
    "                    'preciptype', 'snowdepth', 'stations', \n",
    "                    'Condition_Code', 'conditions' ,\n",
    "                    'description', 'icon', 'source', \n",
    "                    'City', 'Season', 'Day_of_Week',\n",
    "                    'sunriseEpoch','sunsetEpoch','datetimeEpoch',\n",
    "                    'temp', 'feelslikemax','feelslikemin','feelslike',\n",
    "                    'precip','precipprob','precipcover','snow',\n",
    "                    'winddir','pressure','cloudcover','visibility',\n",
    "                    'solarradiation','solarenergy','severerisk',\n",
    "                    'moonphase','Month','Is_Weekend','tempmin',\n",
    "                    'Temp_Range','uvindex'\n",
    "                    ]\n",
    "            )"
   ]
  },
  {
   "cell_type": "code",
   "execution_count": 4,
   "metadata": {},
   "outputs": [
    {
     "data": {
      "text/html": [
       "<div>\n",
       "<style scoped>\n",
       "    .dataframe tbody tr th:only-of-type {\n",
       "        vertical-align: middle;\n",
       "    }\n",
       "\n",
       "    .dataframe tbody tr th {\n",
       "        vertical-align: top;\n",
       "    }\n",
       "\n",
       "    .dataframe thead th {\n",
       "        text-align: right;\n",
       "    }\n",
       "</style>\n",
       "<table border=\"1\" class=\"dataframe\">\n",
       "  <thead>\n",
       "    <tr style=\"text-align: right;\">\n",
       "      <th></th>\n",
       "      <th>tempmax</th>\n",
       "      <th>dew</th>\n",
       "      <th>humidity</th>\n",
       "      <th>windgust</th>\n",
       "      <th>windspeed</th>\n",
       "      <th>Heat_Index</th>\n",
       "      <th>Severity_Score</th>\n",
       "      <th>Health_Risk_Score</th>\n",
       "    </tr>\n",
       "  </thead>\n",
       "  <tbody>\n",
       "    <tr>\n",
       "      <th>0</th>\n",
       "      <td>106.1</td>\n",
       "      <td>51.5</td>\n",
       "      <td>21.0</td>\n",
       "      <td>26.3</td>\n",
       "      <td>13.7</td>\n",
       "      <td>95.918703</td>\n",
       "      <td>4.4300</td>\n",
       "      <td>10.522170</td>\n",
       "    </tr>\n",
       "    <tr>\n",
       "      <th>1</th>\n",
       "      <td>103.9</td>\n",
       "      <td>48.7</td>\n",
       "      <td>21.5</td>\n",
       "      <td>20.8</td>\n",
       "      <td>12.8</td>\n",
       "      <td>92.281316</td>\n",
       "      <td>3.8800</td>\n",
       "      <td>10.062332</td>\n",
       "    </tr>\n",
       "    <tr>\n",
       "      <th>2</th>\n",
       "      <td>105.0</td>\n",
       "      <td>41.7</td>\n",
       "      <td>16.9</td>\n",
       "      <td>18.3</td>\n",
       "      <td>10.3</td>\n",
       "      <td>90.599165</td>\n",
       "      <td>3.6300</td>\n",
       "      <td>9.673387</td>\n",
       "    </tr>\n",
       "    <tr>\n",
       "      <th>3</th>\n",
       "      <td>106.1</td>\n",
       "      <td>39.1</td>\n",
       "      <td>15.7</td>\n",
       "      <td>10.5</td>\n",
       "      <td>5.4</td>\n",
       "      <td>89.638811</td>\n",
       "      <td>2.8512</td>\n",
       "      <td>9.411519</td>\n",
       "    </tr>\n",
       "    <tr>\n",
       "      <th>4</th>\n",
       "      <td>106.1</td>\n",
       "      <td>40.1</td>\n",
       "      <td>15.9</td>\n",
       "      <td>15.9</td>\n",
       "      <td>8.1</td>\n",
       "      <td>89.760414</td>\n",
       "      <td>3.3908</td>\n",
       "      <td>9.515179</td>\n",
       "    </tr>\n",
       "  </tbody>\n",
       "</table>\n",
       "</div>"
      ],
      "text/plain": [
       "   tempmax   dew  humidity  windgust  windspeed  Heat_Index  Severity_Score  \\\n",
       "0    106.1  51.5      21.0      26.3       13.7   95.918703          4.4300   \n",
       "1    103.9  48.7      21.5      20.8       12.8   92.281316          3.8800   \n",
       "2    105.0  41.7      16.9      18.3       10.3   90.599165          3.6300   \n",
       "3    106.1  39.1      15.7      10.5        5.4   89.638811          2.8512   \n",
       "4    106.1  40.1      15.9      15.9        8.1   89.760414          3.3908   \n",
       "\n",
       "   Health_Risk_Score  \n",
       "0          10.522170  \n",
       "1          10.062332  \n",
       "2           9.673387  \n",
       "3           9.411519  \n",
       "4           9.515179  "
      ]
     },
     "execution_count": 4,
     "metadata": {},
     "output_type": "execute_result"
    }
   ],
   "source": [
    "df.head()"
   ]
  },
  {
   "cell_type": "markdown",
   "metadata": {},
   "source": [
    "#### 2.Model Training\n",
    "- importing libraries\n",
    "- dropping the target column\n",
    "- Preprocessing using ColumnTransformer\n",
    "- Train_Test split\n",
    "- Model Selection and Training\n",
    "- Hyper Parameter Tuning\n",
    "- Plotting y_pred and y_test"
   ]
  },
  {
   "cell_type": "markdown",
   "metadata": {},
   "source": [
    "#### 2.1 Importing Libraries"
   ]
  },
  {
   "cell_type": "code",
   "execution_count": 5,
   "metadata": {},
   "outputs": [],
   "source": [
    "from sklearn.preprocessing import OneHotEncoder, StandardScaler, LabelEncoder\n",
    "from sklearn.impute import KNNImputer, SimpleImputer\n",
    "from sklearn.compose import ColumnTransformer\n",
    "from sklearn.pipeline import Pipeline\n",
    "from sklearn.model_selection import train_test_split\n",
    "from sklearn.neighbors import KNeighborsRegressor\n",
    "from sklearn.tree import DecisionTreeRegressor\n",
    "from sklearn.ensemble import RandomForestRegressor,AdaBoostRegressor\n",
    "from sklearn.svm import SVR\n",
    "from sklearn.linear_model import LinearRegression, Ridge,Lasso\n",
    "from sklearn.metrics import r2_score, mean_absolute_error\n",
    "from sklearn.model_selection import RandomizedSearchCV\n",
    "from catboost import CatBoostRegressor\n",
    "from xgboost import XGBRegressor\n",
    "from sklearn.model_selection import RandomizedSearchCV\n",
    "import matplotlib.pyplot as plt\n",
    "%matplotlib inline\n",
    "import seaborn as sns\n",
    "import warnings\n"
   ]
  },
  {
   "cell_type": "markdown",
   "metadata": {},
   "source": [
    "#### 2.2 Dropping the Target Column"
   ]
  },
  {
   "cell_type": "code",
   "execution_count": 6,
   "metadata": {},
   "outputs": [
    {
     "data": {
      "text/html": [
       "<div>\n",
       "<style scoped>\n",
       "    .dataframe tbody tr th:only-of-type {\n",
       "        vertical-align: middle;\n",
       "    }\n",
       "\n",
       "    .dataframe tbody tr th {\n",
       "        vertical-align: top;\n",
       "    }\n",
       "\n",
       "    .dataframe thead th {\n",
       "        text-align: right;\n",
       "    }\n",
       "</style>\n",
       "<table border=\"1\" class=\"dataframe\">\n",
       "  <thead>\n",
       "    <tr style=\"text-align: right;\">\n",
       "      <th></th>\n",
       "      <th>tempmax</th>\n",
       "      <th>dew</th>\n",
       "      <th>humidity</th>\n",
       "      <th>windgust</th>\n",
       "      <th>windspeed</th>\n",
       "      <th>Heat_Index</th>\n",
       "      <th>Severity_Score</th>\n",
       "    </tr>\n",
       "  </thead>\n",
       "  <tbody>\n",
       "    <tr>\n",
       "      <th>0</th>\n",
       "      <td>106.1</td>\n",
       "      <td>51.5</td>\n",
       "      <td>21.0</td>\n",
       "      <td>26.3</td>\n",
       "      <td>13.7</td>\n",
       "      <td>95.918703</td>\n",
       "      <td>4.4300</td>\n",
       "    </tr>\n",
       "    <tr>\n",
       "      <th>1</th>\n",
       "      <td>103.9</td>\n",
       "      <td>48.7</td>\n",
       "      <td>21.5</td>\n",
       "      <td>20.8</td>\n",
       "      <td>12.8</td>\n",
       "      <td>92.281316</td>\n",
       "      <td>3.8800</td>\n",
       "    </tr>\n",
       "    <tr>\n",
       "      <th>2</th>\n",
       "      <td>105.0</td>\n",
       "      <td>41.7</td>\n",
       "      <td>16.9</td>\n",
       "      <td>18.3</td>\n",
       "      <td>10.3</td>\n",
       "      <td>90.599165</td>\n",
       "      <td>3.6300</td>\n",
       "    </tr>\n",
       "    <tr>\n",
       "      <th>3</th>\n",
       "      <td>106.1</td>\n",
       "      <td>39.1</td>\n",
       "      <td>15.7</td>\n",
       "      <td>10.5</td>\n",
       "      <td>5.4</td>\n",
       "      <td>89.638811</td>\n",
       "      <td>2.8512</td>\n",
       "    </tr>\n",
       "    <tr>\n",
       "      <th>4</th>\n",
       "      <td>106.1</td>\n",
       "      <td>40.1</td>\n",
       "      <td>15.9</td>\n",
       "      <td>15.9</td>\n",
       "      <td>8.1</td>\n",
       "      <td>89.760414</td>\n",
       "      <td>3.3908</td>\n",
       "    </tr>\n",
       "  </tbody>\n",
       "</table>\n",
       "</div>"
      ],
      "text/plain": [
       "   tempmax   dew  humidity  windgust  windspeed  Heat_Index  Severity_Score\n",
       "0    106.1  51.5      21.0      26.3       13.7   95.918703          4.4300\n",
       "1    103.9  48.7      21.5      20.8       12.8   92.281316          3.8800\n",
       "2    105.0  41.7      16.9      18.3       10.3   90.599165          3.6300\n",
       "3    106.1  39.1      15.7      10.5        5.4   89.638811          2.8512\n",
       "4    106.1  40.1      15.9      15.9        8.1   89.760414          3.3908"
      ]
     },
     "execution_count": 6,
     "metadata": {},
     "output_type": "execute_result"
    }
   ],
   "source": [
    "X = df.drop(columns=['Health_Risk_Score'],axis=1)\n",
    "X.head()"
   ]
  },
  {
   "cell_type": "code",
   "execution_count": 7,
   "metadata": {},
   "outputs": [
    {
     "data": {
      "text/plain": [
       "0      10.522170\n",
       "1      10.062332\n",
       "2       9.673387\n",
       "3       9.411519\n",
       "4       9.515179\n",
       "         ...    \n",
       "995     8.750142\n",
       "996     9.118198\n",
       "997     9.880093\n",
       "998     9.561602\n",
       "999    10.978044\n",
       "Name: Health_Risk_Score, Length: 1000, dtype: float64"
      ]
     },
     "execution_count": 7,
     "metadata": {},
     "output_type": "execute_result"
    }
   ],
   "source": [
    "Y = df['Health_Risk_Score']\n",
    "Y"
   ]
  },
  {
   "cell_type": "markdown",
   "metadata": {},
   "source": [
    "#### Prerprocessing using Column Transformer"
   ]
  },
  {
   "cell_type": "code",
   "execution_count": 8,
   "metadata": {},
   "outputs": [],
   "source": [
    "num_features = X.select_dtypes(include=['float64', 'int64']).columns\n",
    "cat_features = X.select_dtypes(include=['object', 'category']).columns\n",
    "\n",
    "# Define the numerical transformer pipeline\n",
    "numeric_transformer = Pipeline(steps=[\n",
    "    (\"imputer\", KNNImputer(n_neighbors=5)),  # Impute missing values with KNNImputer\n",
    "    (\"scaler\", StandardScaler())  # Scale features\n",
    "])\n",
    "\n",
    "# Define the categorical transformer pipeline\n",
    "categorical_transformer = Pipeline(steps=[\n",
    "    (\"imputer\", SimpleImputer(strategy=\"most_frequent\")),# Impute missing values with the most frequent value\n",
    "    (\"onehot\", OneHotEncoder())  # Encode categorical features\n",
    "])\n",
    "\n",
    "# Combine numerical and categorical pipelines into a ColumnTransformer\n",
    "preprocessor = ColumnTransformer(\n",
    "    transformers=[\n",
    "        (\"num\", numeric_transformer, num_features),\n",
    "        (\"cat\", categorical_transformer, cat_features)\n",
    "    ]\n",
    ")\n"
   ]
  },
  {
   "cell_type": "code",
   "execution_count": 9,
   "metadata": {},
   "outputs": [],
   "source": [
    "X = preprocessor.fit_transform(X)"
   ]
  },
  {
   "cell_type": "code",
   "execution_count": 10,
   "metadata": {},
   "outputs": [
    {
     "data": {
      "text/plain": [
       "(1000, 7)"
      ]
     },
     "execution_count": 10,
     "metadata": {},
     "output_type": "execute_result"
    }
   ],
   "source": [
    "X.shape"
   ]
  },
  {
   "cell_type": "markdown",
   "metadata": {},
   "source": [
    "#### 2.3 Train_Test split"
   ]
  },
  {
   "cell_type": "code",
   "execution_count": 11,
   "metadata": {},
   "outputs": [
    {
     "data": {
      "text/plain": [
       "((800, 7), (200, 7))"
      ]
     },
     "execution_count": 11,
     "metadata": {},
     "output_type": "execute_result"
    }
   ],
   "source": [
    "# separate dataset into train and test\n",
    "X_train, X_test, y_train, y_test = train_test_split(X,Y,test_size=0.2,random_state=42)\n",
    "X_train.shape, X_test.shape"
   ]
  },
  {
   "cell_type": "markdown",
   "metadata": {},
   "source": [
    "#### 2.4 Model Selection and Training"
   ]
  },
  {
   "cell_type": "code",
   "execution_count": 12,
   "metadata": {},
   "outputs": [],
   "source": [
    "def evaluate_clfs(true, predicted):\n",
    "    mae = mean_absolute_error(true, predicted)\n",
    "    r2_square = r2_score(true, predicted)\n",
    "    return mae, r2_square"
   ]
  },
  {
   "cell_type": "code",
   "execution_count": 13,
   "metadata": {},
   "outputs": [],
   "source": [
    "models = {\n",
    "    \"Linear Regression\": LinearRegression(),\n",
    "    \"Lasso\": Lasso(),\n",
    "    \"Ridge\": Ridge(),\n",
    "    \"K-Neighbors Regressor\": KNeighborsRegressor(),\n",
    "    \"Decision Tree\": DecisionTreeRegressor(),\n",
    "    \"Random Forest Regressor\": RandomForestRegressor(),\n",
    "    \"XGBRegressor\": XGBRegressor(), \n",
    "    \"CatBoosting Regressor\": CatBoostRegressor(verbose=False),\n",
    "    \"AdaBoost Regressor\": AdaBoostRegressor()\n",
    "}"
   ]
  },
  {
   "cell_type": "code",
   "execution_count": 14,
   "metadata": {},
   "outputs": [],
   "source": [
    "def evaluate_models(X, Y, models):\n",
    "    model_list = []\n",
    "    r2_list =[]\n",
    "\n",
    "    for i in range(len(list(models))):\n",
    "        model = list(models.values())[i]\n",
    "        model.fit(X_train, y_train) # Train model\n",
    "\n",
    "    # Make predictions\n",
    "        y_train_pred = model.predict(X_train)\n",
    "        y_test_pred = model.predict(X_test)\n",
    "    \n",
    "    # Evaluate Train and Test dataset\n",
    "        model_train_mae , model_train_r2 = evaluate_clfs(y_train, y_train_pred)\n",
    "\n",
    "        model_test_mae , model_test_r2 = evaluate_clfs(y_test, y_test_pred)\n",
    "\n",
    "    \n",
    "        print(list(models.keys())[i])\n",
    "        model_list.append(list(models.keys())[i])\n",
    "    \n",
    "        print('Model performance for Training set')\n",
    "        print(\"- Mean Absolute Error: {:.4f}\".format(model_train_mae))\n",
    "        print(\"- R2 Score: {:.4f}\".format(model_train_r2))\n",
    "\n",
    "        print('----------------------------------')\n",
    "    \n",
    "        print('Model performance for Test set')\n",
    "        print(\"- Mean Absolute Error: {:.4f}\".format(model_test_mae))\n",
    "        print(\"- R2 Score: {:.4f}\".format(model_test_r2))\n",
    "        r2_list.append(model_test_r2)\n",
    "\n",
    "        print('='*35)\n",
    "        print('\\n')\n",
    "\n",
    "    report = pd.DataFrame(list(zip(model_list, r2_list)), columns=['Model Name', 'R2_Score']).sort_values(by=[\"R2_Score\"],ascending=False)\n",
    "    return report"
   ]
  },
  {
   "cell_type": "code",
   "execution_count": 15,
   "metadata": {},
   "outputs": [
    {
     "name": "stdout",
     "output_type": "stream",
     "text": [
      "Linear Regression\n",
      "Model performance for Training set\n",
      "- Mean Absolute Error: 0.0977\n",
      "- R2 Score: 0.9665\n",
      "----------------------------------\n",
      "Model performance for Test set\n",
      "- Mean Absolute Error: 0.1000\n",
      "- R2 Score: 0.9571\n",
      "===================================\n",
      "\n",
      "\n",
      "Lasso\n",
      "Model performance for Training set\n",
      "- Mean Absolute Error: 0.5830\n",
      "- R2 Score: 0.0000\n",
      "----------------------------------\n",
      "Model performance for Test set\n",
      "- Mean Absolute Error: 0.5487\n",
      "- R2 Score: -0.0247\n",
      "===================================\n",
      "\n",
      "\n",
      "Ridge\n",
      "Model performance for Training set\n",
      "- Mean Absolute Error: 0.0978\n",
      "- R2 Score: 0.9664\n",
      "----------------------------------\n",
      "Model performance for Test set\n",
      "- Mean Absolute Error: 0.0994\n",
      "- R2 Score: 0.9575\n",
      "===================================\n",
      "\n",
      "\n",
      "K-Neighbors Regressor\n",
      "Model performance for Training set\n",
      "- Mean Absolute Error: 0.0482\n",
      "- R2 Score: 0.9912\n",
      "----------------------------------\n",
      "Model performance for Test set\n",
      "- Mean Absolute Error: 0.0656\n",
      "- R2 Score: 0.9792\n",
      "===================================\n",
      "\n",
      "\n",
      "Decision Tree\n",
      "Model performance for Training set\n",
      "- Mean Absolute Error: 0.0000\n",
      "- R2 Score: 1.0000\n",
      "----------------------------------\n",
      "Model performance for Test set\n",
      "- Mean Absolute Error: 0.1094\n",
      "- R2 Score: 0.9352\n",
      "===================================\n",
      "\n",
      "\n"
     ]
    },
    {
     "name": "stdout",
     "output_type": "stream",
     "text": [
      "Random Forest Regressor\n",
      "Model performance for Training set\n",
      "- Mean Absolute Error: 0.0287\n",
      "- R2 Score: 0.9965\n",
      "----------------------------------\n",
      "Model performance for Test set\n",
      "- Mean Absolute Error: 0.0850\n",
      "- R2 Score: 0.9614\n",
      "===================================\n",
      "\n",
      "\n",
      "XGBRegressor\n",
      "Model performance for Training set\n",
      "- Mean Absolute Error: 0.0044\n",
      "- R2 Score: 0.9999\n",
      "----------------------------------\n",
      "Model performance for Test set\n",
      "- Mean Absolute Error: 0.0890\n",
      "- R2 Score: 0.9609\n",
      "===================================\n",
      "\n",
      "\n",
      "CatBoosting Regressor\n",
      "Model performance for Training set\n",
      "- Mean Absolute Error: 0.0302\n",
      "- R2 Score: 0.9970\n",
      "----------------------------------\n",
      "Model performance for Test set\n",
      "- Mean Absolute Error: 0.0754\n",
      "- R2 Score: 0.9758\n",
      "===================================\n",
      "\n",
      "\n",
      "AdaBoost Regressor\n",
      "Model performance for Training set\n",
      "- Mean Absolute Error: 0.1573\n",
      "- R2 Score: 0.9237\n",
      "----------------------------------\n",
      "Model performance for Test set\n",
      "- Mean Absolute Error: 0.1687\n",
      "- R2 Score: 0.8923\n",
      "===================================\n",
      "\n",
      "\n"
     ]
    }
   ],
   "source": [
    "base_model_report =evaluate_models(X, Y, models=models)"
   ]
  },
  {
   "cell_type": "code",
   "execution_count": 16,
   "metadata": {},
   "outputs": [
    {
     "data": {
      "text/html": [
       "<div>\n",
       "<style scoped>\n",
       "    .dataframe tbody tr th:only-of-type {\n",
       "        vertical-align: middle;\n",
       "    }\n",
       "\n",
       "    .dataframe tbody tr th {\n",
       "        vertical-align: top;\n",
       "    }\n",
       "\n",
       "    .dataframe thead th {\n",
       "        text-align: right;\n",
       "    }\n",
       "</style>\n",
       "<table border=\"1\" class=\"dataframe\">\n",
       "  <thead>\n",
       "    <tr style=\"text-align: right;\">\n",
       "      <th></th>\n",
       "      <th>Model Name</th>\n",
       "      <th>R2_Score</th>\n",
       "    </tr>\n",
       "  </thead>\n",
       "  <tbody>\n",
       "    <tr>\n",
       "      <th>3</th>\n",
       "      <td>K-Neighbors Regressor</td>\n",
       "      <td>0.979232</td>\n",
       "    </tr>\n",
       "    <tr>\n",
       "      <th>7</th>\n",
       "      <td>CatBoosting Regressor</td>\n",
       "      <td>0.975838</td>\n",
       "    </tr>\n",
       "    <tr>\n",
       "      <th>5</th>\n",
       "      <td>Random Forest Regressor</td>\n",
       "      <td>0.961430</td>\n",
       "    </tr>\n",
       "    <tr>\n",
       "      <th>6</th>\n",
       "      <td>XGBRegressor</td>\n",
       "      <td>0.960919</td>\n",
       "    </tr>\n",
       "    <tr>\n",
       "      <th>2</th>\n",
       "      <td>Ridge</td>\n",
       "      <td>0.957476</td>\n",
       "    </tr>\n",
       "    <tr>\n",
       "      <th>0</th>\n",
       "      <td>Linear Regression</td>\n",
       "      <td>0.957112</td>\n",
       "    </tr>\n",
       "    <tr>\n",
       "      <th>4</th>\n",
       "      <td>Decision Tree</td>\n",
       "      <td>0.935218</td>\n",
       "    </tr>\n",
       "    <tr>\n",
       "      <th>8</th>\n",
       "      <td>AdaBoost Regressor</td>\n",
       "      <td>0.892342</td>\n",
       "    </tr>\n",
       "    <tr>\n",
       "      <th>1</th>\n",
       "      <td>Lasso</td>\n",
       "      <td>-0.024657</td>\n",
       "    </tr>\n",
       "  </tbody>\n",
       "</table>\n",
       "</div>"
      ],
      "text/plain": [
       "                Model Name  R2_Score\n",
       "3    K-Neighbors Regressor  0.979232\n",
       "7    CatBoosting Regressor  0.975838\n",
       "5  Random Forest Regressor  0.961430\n",
       "6             XGBRegressor  0.960919\n",
       "2                    Ridge  0.957476\n",
       "0        Linear Regression  0.957112\n",
       "4            Decision Tree  0.935218\n",
       "8       AdaBoost Regressor  0.892342\n",
       "1                    Lasso -0.024657"
      ]
     },
     "execution_count": 16,
     "metadata": {},
     "output_type": "execute_result"
    }
   ],
   "source": [
    "base_model_report"
   ]
  },
  {
   "cell_type": "markdown",
   "metadata": {},
   "source": [
    "#### 2.5 Hyper Paramaeter Tuning"
   ]
  },
  {
   "cell_type": "code",
   "execution_count": 17,
   "metadata": {},
   "outputs": [],
   "source": [
    "xgboost_params = {\n",
    "    'max_depth':range(3,10,2),\n",
    "    'min_child_weight':range(1,6,2)\n",
    "}\n",
    "\n",
    "catboost_params = {\n",
    "                    'depth': [6,8,10],\n",
    "                    'learning_rate': [0.01, 0.05, 0.1],\n",
    "                    'iterations': [30, 50, 100]\n",
    "}\n",
    "\n",
    "knn_params = {\n",
    "    \"algorithm\": ['auto', 'ball_tree', 'kd_tree','brute'],\n",
    "    \"weights\": ['uniform', 'distance'],\n",
    "    \"n_neighbors\": [3, 4, 5, 7, 9],\n",
    "}\n",
    "\n",
    "rf_params = {\n",
    "    \"max_depth\": [10, 12, None, 15, 20],\n",
    "    \"max_features\": ['sqrt', 'log2', None],\n",
    "    \"n_estimators\": [10, 50, 100, 200]\n",
    "}"
   ]
  },
  {
   "cell_type": "code",
   "execution_count": 18,
   "metadata": {},
   "outputs": [],
   "source": [
    "randomcv_models = [\n",
    "    ('XGBoost', XGBRegressor(), xgboost_params),\n",
    "    (\"CATBOOST\", CatBoostRegressor(), catboost_params),\n",
    "    (\"KNN\", KNeighborsRegressor(), knn_params),\n",
    "    ('Random_Forest',RandomForestRegressor(),rf_params)\n",
    "]"
   ]
  },
  {
   "cell_type": "code",
   "execution_count": 19,
   "metadata": {},
   "outputs": [
    {
     "name": "stdout",
     "output_type": "stream",
     "text": [
      "Fitting 3 folds for each of 12 candidates, totalling 36 fits\n"
     ]
    },
    {
     "name": "stderr",
     "output_type": "stream",
     "text": [
      "c:\\Users\\KIIT\\anaconda3\\envs\\bani\\lib\\site-packages\\sklearn\\model_selection\\_search.py:320: UserWarning: The total space of parameters 12 is smaller than n_iter=100. Running 12 iterations. For exhaustive searches, use GridSearchCV.\n",
      "  warnings.warn(\n",
      "c:\\Users\\KIIT\\anaconda3\\envs\\bani\\lib\\site-packages\\sklearn\\model_selection\\_search.py:320: UserWarning: The total space of parameters 27 is smaller than n_iter=100. Running 27 iterations. For exhaustive searches, use GridSearchCV.\n",
      "  warnings.warn(\n"
     ]
    },
    {
     "name": "stdout",
     "output_type": "stream",
     "text": [
      "Fitting 3 folds for each of 27 candidates, totalling 81 fits\n",
      "0:\tlearn: 0.6260770\ttotal: 10.9ms\tremaining: 1.08s\n",
      "1:\tlearn: 0.5775865\ttotal: 20.3ms\tremaining: 995ms\n",
      "2:\tlearn: 0.5357039\ttotal: 31.5ms\tremaining: 1.02s\n",
      "3:\tlearn: 0.4951693\ttotal: 46.8ms\tremaining: 1.12s\n",
      "4:\tlearn: 0.4593733\ttotal: 63.3ms\tremaining: 1.2s\n",
      "5:\tlearn: 0.4257785\ttotal: 79.9ms\tremaining: 1.25s\n",
      "6:\tlearn: 0.3959060\ttotal: 92.4ms\tremaining: 1.23s\n",
      "7:\tlearn: 0.3672247\ttotal: 104ms\tremaining: 1.19s\n",
      "8:\tlearn: 0.3436133\ttotal: 116ms\tremaining: 1.18s\n",
      "9:\tlearn: 0.3193721\ttotal: 130ms\tremaining: 1.17s\n",
      "10:\tlearn: 0.2980873\ttotal: 147ms\tremaining: 1.19s\n",
      "11:\tlearn: 0.2789815\ttotal: 164ms\tremaining: 1.2s\n",
      "12:\tlearn: 0.2616962\ttotal: 181ms\tremaining: 1.21s\n",
      "13:\tlearn: 0.2460859\ttotal: 198ms\tremaining: 1.21s\n",
      "14:\tlearn: 0.2320963\ttotal: 215ms\tremaining: 1.22s\n",
      "15:\tlearn: 0.2195374\ttotal: 228ms\tremaining: 1.2s\n",
      "16:\tlearn: 0.2074217\ttotal: 245ms\tremaining: 1.2s\n",
      "17:\tlearn: 0.1967373\ttotal: 263ms\tremaining: 1.2s\n",
      "18:\tlearn: 0.1870918\ttotal: 277ms\tremaining: 1.18s\n",
      "19:\tlearn: 0.1780201\ttotal: 294ms\tremaining: 1.18s\n",
      "20:\tlearn: 0.1697824\ttotal: 315ms\tremaining: 1.18s\n",
      "21:\tlearn: 0.1625440\ttotal: 337ms\tremaining: 1.19s\n",
      "22:\tlearn: 0.1560152\ttotal: 350ms\tremaining: 1.17s\n",
      "23:\tlearn: 0.1499140\ttotal: 363ms\tremaining: 1.15s\n",
      "24:\tlearn: 0.1450831\ttotal: 381ms\tremaining: 1.14s\n",
      "25:\tlearn: 0.1402694\ttotal: 404ms\tremaining: 1.15s\n",
      "26:\tlearn: 0.1359777\ttotal: 417ms\tremaining: 1.13s\n",
      "27:\tlearn: 0.1324432\ttotal: 434ms\tremaining: 1.11s\n",
      "28:\tlearn: 0.1283347\ttotal: 446ms\tremaining: 1.09s\n",
      "29:\tlearn: 0.1242001\ttotal: 461ms\tremaining: 1.07s\n",
      "30:\tlearn: 0.1207363\ttotal: 476ms\tremaining: 1.06s\n",
      "31:\tlearn: 0.1175311\ttotal: 491ms\tremaining: 1.04s\n",
      "32:\tlearn: 0.1145625\ttotal: 502ms\tremaining: 1.02s\n",
      "33:\tlearn: 0.1120668\ttotal: 513ms\tremaining: 996ms\n",
      "34:\tlearn: 0.1095785\ttotal: 527ms\tremaining: 978ms\n",
      "35:\tlearn: 0.1075318\ttotal: 542ms\tremaining: 964ms\n",
      "36:\tlearn: 0.1054215\ttotal: 557ms\tremaining: 948ms\n",
      "37:\tlearn: 0.1038048\ttotal: 568ms\tremaining: 926ms\n",
      "38:\tlearn: 0.1024769\ttotal: 578ms\tremaining: 904ms\n",
      "39:\tlearn: 0.1008169\ttotal: 589ms\tremaining: 884ms\n",
      "40:\tlearn: 0.0995917\ttotal: 599ms\tremaining: 862ms\n",
      "41:\tlearn: 0.0981343\ttotal: 608ms\tremaining: 840ms\n",
      "42:\tlearn: 0.0968697\ttotal: 624ms\tremaining: 827ms\n",
      "43:\tlearn: 0.0955399\ttotal: 641ms\tremaining: 815ms\n",
      "44:\tlearn: 0.0946116\ttotal: 658ms\tremaining: 805ms\n",
      "45:\tlearn: 0.0934000\ttotal: 671ms\tremaining: 787ms\n",
      "46:\tlearn: 0.0924874\ttotal: 682ms\tremaining: 769ms\n",
      "47:\tlearn: 0.0914180\ttotal: 695ms\tremaining: 753ms\n",
      "48:\tlearn: 0.0903057\ttotal: 708ms\tremaining: 737ms\n",
      "49:\tlearn: 0.0894458\ttotal: 721ms\tremaining: 721ms\n",
      "50:\tlearn: 0.0886726\ttotal: 731ms\tremaining: 703ms\n",
      "51:\tlearn: 0.0880136\ttotal: 743ms\tremaining: 686ms\n",
      "52:\tlearn: 0.0873988\ttotal: 753ms\tremaining: 668ms\n",
      "53:\tlearn: 0.0867959\ttotal: 764ms\tremaining: 651ms\n",
      "54:\tlearn: 0.0860778\ttotal: 776ms\tremaining: 635ms\n",
      "55:\tlearn: 0.0855550\ttotal: 790ms\tremaining: 621ms\n",
      "56:\tlearn: 0.0849901\ttotal: 806ms\tremaining: 608ms\n",
      "57:\tlearn: 0.0846091\ttotal: 820ms\tremaining: 594ms\n",
      "58:\tlearn: 0.0838367\ttotal: 833ms\tremaining: 579ms\n",
      "59:\tlearn: 0.0832772\ttotal: 846ms\tremaining: 564ms\n",
      "60:\tlearn: 0.0826854\ttotal: 859ms\tremaining: 549ms\n",
      "61:\tlearn: 0.0821750\ttotal: 877ms\tremaining: 537ms\n",
      "62:\tlearn: 0.0816451\ttotal: 889ms\tremaining: 522ms\n",
      "63:\tlearn: 0.0811439\ttotal: 899ms\tremaining: 506ms\n",
      "64:\tlearn: 0.0806542\ttotal: 912ms\tremaining: 491ms\n",
      "65:\tlearn: 0.0802113\ttotal: 922ms\tremaining: 475ms\n",
      "66:\tlearn: 0.0796827\ttotal: 935ms\tremaining: 461ms\n",
      "67:\tlearn: 0.0791737\ttotal: 946ms\tremaining: 445ms\n",
      "68:\tlearn: 0.0786971\ttotal: 956ms\tremaining: 430ms\n",
      "69:\tlearn: 0.0783166\ttotal: 969ms\tremaining: 415ms\n",
      "70:\tlearn: 0.0779670\ttotal: 979ms\tremaining: 400ms\n",
      "71:\tlearn: 0.0776552\ttotal: 989ms\tremaining: 385ms\n",
      "72:\tlearn: 0.0772238\ttotal: 1000ms\tremaining: 370ms\n",
      "73:\tlearn: 0.0768216\ttotal: 1.01s\tremaining: 355ms\n",
      "74:\tlearn: 0.0765770\ttotal: 1.03s\tremaining: 345ms\n",
      "75:\tlearn: 0.0759816\ttotal: 1.06s\tremaining: 334ms\n",
      "76:\tlearn: 0.0756755\ttotal: 1.08s\tremaining: 322ms\n",
      "77:\tlearn: 0.0753134\ttotal: 1.09s\tremaining: 309ms\n",
      "78:\tlearn: 0.0750400\ttotal: 1.12s\tremaining: 298ms\n",
      "79:\tlearn: 0.0746048\ttotal: 1.14s\tremaining: 284ms\n",
      "80:\tlearn: 0.0741847\ttotal: 1.15s\tremaining: 269ms\n",
      "81:\tlearn: 0.0737810\ttotal: 1.16s\tremaining: 256ms\n",
      "82:\tlearn: 0.0735588\ttotal: 1.19s\tremaining: 243ms\n",
      "83:\tlearn: 0.0732984\ttotal: 1.2s\tremaining: 229ms\n",
      "84:\tlearn: 0.0729925\ttotal: 1.21s\tremaining: 214ms\n",
      "85:\tlearn: 0.0728069\ttotal: 1.22s\tremaining: 199ms\n",
      "86:\tlearn: 0.0725324\ttotal: 1.24s\tremaining: 185ms\n",
      "87:\tlearn: 0.0723507\ttotal: 1.25s\tremaining: 170ms\n",
      "88:\tlearn: 0.0720489\ttotal: 1.26s\tremaining: 156ms\n",
      "89:\tlearn: 0.0718075\ttotal: 1.27s\tremaining: 142ms\n",
      "90:\tlearn: 0.0714690\ttotal: 1.28s\tremaining: 127ms\n",
      "91:\tlearn: 0.0712228\ttotal: 1.3s\tremaining: 113ms\n",
      "92:\tlearn: 0.0709096\ttotal: 1.31s\tremaining: 98.5ms\n",
      "93:\tlearn: 0.0707146\ttotal: 1.32s\tremaining: 84.3ms\n",
      "94:\tlearn: 0.0705792\ttotal: 1.33s\tremaining: 70.1ms\n",
      "95:\tlearn: 0.0704266\ttotal: 1.34s\tremaining: 56ms\n",
      "96:\tlearn: 0.0701801\ttotal: 1.36s\tremaining: 42ms\n",
      "97:\tlearn: 0.0699343\ttotal: 1.37s\tremaining: 28ms\n",
      "98:\tlearn: 0.0695752\ttotal: 1.39s\tremaining: 14ms\n",
      "99:\tlearn: 0.0693019\ttotal: 1.4s\tremaining: 0us\n",
      "Fitting 3 folds for each of 40 candidates, totalling 120 fits\n"
     ]
    },
    {
     "name": "stderr",
     "output_type": "stream",
     "text": [
      "c:\\Users\\KIIT\\anaconda3\\envs\\bani\\lib\\site-packages\\sklearn\\model_selection\\_search.py:320: UserWarning: The total space of parameters 40 is smaller than n_iter=100. Running 40 iterations. For exhaustive searches, use GridSearchCV.\n",
      "  warnings.warn(\n",
      "c:\\Users\\KIIT\\anaconda3\\envs\\bani\\lib\\site-packages\\sklearn\\model_selection\\_search.py:320: UserWarning: The total space of parameters 60 is smaller than n_iter=100. Running 60 iterations. For exhaustive searches, use GridSearchCV.\n",
      "  warnings.warn(\n"
     ]
    },
    {
     "name": "stdout",
     "output_type": "stream",
     "text": [
      "Fitting 3 folds for each of 60 candidates, totalling 180 fits\n",
      "---------------- Best Params for XGBoost -------------------\n",
      "{'min_child_weight': 5, 'max_depth': 5}\n",
      "---------------- Best Params for CATBOOST -------------------\n",
      "{'learning_rate': 0.1, 'iterations': 100, 'depth': 8}\n",
      "---------------- Best Params for KNN -------------------\n",
      "{'weights': 'distance', 'n_neighbors': 3, 'algorithm': 'auto'}\n",
      "---------------- Best Params for Random_Forest -------------------\n",
      "{'n_estimators': 200, 'max_features': 'sqrt', 'max_depth': 20}\n"
     ]
    }
   ],
   "source": [
    "model_param = {}\n",
    "for name, model, params in randomcv_models:\n",
    "    random = RandomizedSearchCV(estimator=model,\n",
    "                                   param_distributions=params,\n",
    "                                   n_iter=100,\n",
    "                                   cv=3,\n",
    "                                   verbose=2, \n",
    "                                   n_jobs=-1)\n",
    "    random.fit(X, Y)\n",
    "    model_param[name] = random.best_params_\n",
    "\n",
    "for model_name in model_param:\n",
    "    print(f\"---------------- Best Params for {model_name} -------------------\")\n",
    "    print(model_param[model_name])"
   ]
  },
  {
   "cell_type": "code",
   "execution_count": 20,
   "metadata": {},
   "outputs": [
    {
     "data": {
      "text/plain": [
       "{'XGBoost': {'min_child_weight': 5, 'max_depth': 5},\n",
       " 'CATBOOST': {'learning_rate': 0.1, 'iterations': 100, 'depth': 8},\n",
       " 'KNN': {'weights': 'distance', 'n_neighbors': 3, 'algorithm': 'auto'},\n",
       " 'Random_Forest': {'n_estimators': 200,\n",
       "  'max_features': 'sqrt',\n",
       "  'max_depth': 20}}"
      ]
     },
     "execution_count": 20,
     "metadata": {},
     "output_type": "execute_result"
    }
   ],
   "source": [
    "model_param"
   ]
  },
  {
   "cell_type": "markdown",
   "metadata": {},
   "source": [
    "from sklearn.metrics import roc_auc_score,roc_curve\n",
    "best_models = {\n",
    "    \"CatboostRegressor\": CatBoostRegressor(**model_param['CATBOOST']),\n",
    "    \"KNeighborsRegressor\": KNeighborsRegressor(**model_param['KNN']),\n",
    "    \"XGBClassifier\": XGBRegressor(**model_param['XGBoost'],n_jobs=-1),\n",
    "}\n",
    "tuned_report =evaluate_models(X, Y, models=best_models)"
   ]
  },
  {
   "cell_type": "code",
   "execution_count": 21,
   "metadata": {},
   "outputs": [
    {
     "name": "stdout",
     "output_type": "stream",
     "text": [
      "Random Forest Regressor\n",
      "Model performance for Training set\n",
      "- Mean Absolute Error: 0.0277\n",
      "- R2 Score: 0.9971\n",
      "----------------------------------\n",
      "Model performance for Test set\n",
      "- Mean Absolute Error: 0.0769\n",
      "- R2 Score: 0.9736\n",
      "===================================\n",
      "\n",
      "\n",
      "KNeighborsRegressor\n",
      "Model performance for Training set\n",
      "- Mean Absolute Error: 0.0000\n",
      "- R2 Score: 1.0000\n",
      "----------------------------------\n",
      "Model performance for Test set\n",
      "- Mean Absolute Error: 0.0578\n",
      "- R2 Score: 0.9860\n",
      "===================================\n",
      "\n",
      "\n",
      "XGBRegressor\n",
      "Model performance for Training set\n",
      "- Mean Absolute Error: 0.0161\n",
      "- R2 Score: 0.9991\n",
      "----------------------------------\n",
      "Model performance for Test set\n",
      "- Mean Absolute Error: 0.0855\n",
      "- R2 Score: 0.9632\n",
      "===================================\n",
      "\n",
      "\n",
      "0:\tlearn: 0.6358081\ttotal: 9.45ms\tremaining: 936ms\n",
      "1:\tlearn: 0.5873766\ttotal: 18.4ms\tremaining: 900ms\n",
      "2:\tlearn: 0.5449512\ttotal: 26.5ms\tremaining: 858ms\n",
      "3:\tlearn: 0.5064110\ttotal: 36.5ms\tremaining: 877ms\n",
      "4:\tlearn: 0.4713236\ttotal: 45.6ms\tremaining: 866ms\n",
      "5:\tlearn: 0.4376986\ttotal: 53.4ms\tremaining: 836ms\n",
      "6:\tlearn: 0.4070442\ttotal: 61.6ms\tremaining: 818ms\n",
      "7:\tlearn: 0.3772370\ttotal: 69.2ms\tremaining: 796ms\n",
      "8:\tlearn: 0.3526602\ttotal: 77.9ms\tremaining: 787ms\n",
      "9:\tlearn: 0.3292106\ttotal: 85.4ms\tremaining: 769ms\n",
      "10:\tlearn: 0.3069700\ttotal: 96.5ms\tremaining: 781ms\n",
      "11:\tlearn: 0.2873870\ttotal: 105ms\tremaining: 772ms\n",
      "12:\tlearn: 0.2693511\ttotal: 115ms\tremaining: 769ms\n",
      "13:\tlearn: 0.2528320\ttotal: 127ms\tremaining: 783ms\n",
      "14:\tlearn: 0.2379376\ttotal: 137ms\tremaining: 776ms\n",
      "15:\tlearn: 0.2251195\ttotal: 148ms\tremaining: 775ms\n",
      "16:\tlearn: 0.2129727\ttotal: 157ms\tremaining: 765ms\n",
      "17:\tlearn: 0.2021719\ttotal: 165ms\tremaining: 751ms\n",
      "18:\tlearn: 0.1927015\ttotal: 173ms\tremaining: 738ms\n",
      "19:\tlearn: 0.1830121\ttotal: 181ms\tremaining: 725ms\n",
      "20:\tlearn: 0.1745947\ttotal: 190ms\tremaining: 714ms\n",
      "21:\tlearn: 0.1677424\ttotal: 198ms\tremaining: 702ms\n",
      "22:\tlearn: 0.1610644\ttotal: 208ms\tremaining: 696ms\n",
      "23:\tlearn: 0.1555209\ttotal: 216ms\tremaining: 684ms\n",
      "24:\tlearn: 0.1498313\ttotal: 224ms\tremaining: 673ms\n",
      "25:\tlearn: 0.1441881\ttotal: 232ms\tremaining: 660ms\n",
      "26:\tlearn: 0.1392781\ttotal: 240ms\tremaining: 648ms\n",
      "27:\tlearn: 0.1352511\ttotal: 248ms\tremaining: 637ms\n",
      "28:\tlearn: 0.1310810\ttotal: 256ms\tremaining: 627ms\n",
      "29:\tlearn: 0.1271558\ttotal: 264ms\tremaining: 615ms\n",
      "30:\tlearn: 0.1235270\ttotal: 272ms\tremaining: 605ms\n",
      "31:\tlearn: 0.1200739\ttotal: 280ms\tremaining: 595ms\n",
      "32:\tlearn: 0.1173903\ttotal: 289ms\tremaining: 587ms\n",
      "33:\tlearn: 0.1150429\ttotal: 298ms\tremaining: 578ms\n",
      "34:\tlearn: 0.1124706\ttotal: 306ms\tremaining: 569ms\n",
      "35:\tlearn: 0.1102325\ttotal: 315ms\tremaining: 560ms\n",
      "36:\tlearn: 0.1078875\ttotal: 324ms\tremaining: 551ms\n",
      "37:\tlearn: 0.1057707\ttotal: 333ms\tremaining: 543ms\n",
      "38:\tlearn: 0.1043261\ttotal: 341ms\tremaining: 534ms\n",
      "39:\tlearn: 0.1026616\ttotal: 351ms\tremaining: 526ms\n",
      "40:\tlearn: 0.1006438\ttotal: 359ms\tremaining: 516ms\n",
      "41:\tlearn: 0.0991973\ttotal: 367ms\tremaining: 507ms\n",
      "42:\tlearn: 0.0980034\ttotal: 375ms\tremaining: 498ms\n",
      "43:\tlearn: 0.0964607\ttotal: 384ms\tremaining: 488ms\n",
      "44:\tlearn: 0.0954113\ttotal: 392ms\tremaining: 479ms\n",
      "45:\tlearn: 0.0942086\ttotal: 400ms\tremaining: 470ms\n",
      "46:\tlearn: 0.0934804\ttotal: 409ms\tremaining: 461ms\n",
      "47:\tlearn: 0.0926436\ttotal: 418ms\tremaining: 452ms\n",
      "48:\tlearn: 0.0918356\ttotal: 425ms\tremaining: 443ms\n",
      "49:\tlearn: 0.0908418\ttotal: 433ms\tremaining: 433ms\n",
      "50:\tlearn: 0.0899458\ttotal: 441ms\tremaining: 423ms\n",
      "51:\tlearn: 0.0892670\ttotal: 448ms\tremaining: 413ms\n",
      "52:\tlearn: 0.0885431\ttotal: 455ms\tremaining: 403ms\n",
      "53:\tlearn: 0.0876987\ttotal: 461ms\tremaining: 393ms\n",
      "54:\tlearn: 0.0866604\ttotal: 468ms\tremaining: 383ms\n",
      "55:\tlearn: 0.0858533\ttotal: 474ms\tremaining: 373ms\n",
      "56:\tlearn: 0.0854071\ttotal: 480ms\tremaining: 362ms\n",
      "57:\tlearn: 0.0848575\ttotal: 486ms\tremaining: 352ms\n",
      "58:\tlearn: 0.0841432\ttotal: 492ms\tremaining: 342ms\n",
      "59:\tlearn: 0.0834950\ttotal: 498ms\tremaining: 332ms\n",
      "60:\tlearn: 0.0826701\ttotal: 505ms\tremaining: 323ms\n",
      "61:\tlearn: 0.0820677\ttotal: 510ms\tremaining: 312ms\n",
      "62:\tlearn: 0.0813722\ttotal: 515ms\tremaining: 303ms\n",
      "63:\tlearn: 0.0807718\ttotal: 523ms\tremaining: 294ms\n",
      "64:\tlearn: 0.0800860\ttotal: 528ms\tremaining: 285ms\n",
      "65:\tlearn: 0.0794408\ttotal: 534ms\tremaining: 275ms\n",
      "66:\tlearn: 0.0788601\ttotal: 539ms\tremaining: 266ms\n",
      "67:\tlearn: 0.0783321\ttotal: 545ms\tremaining: 256ms\n",
      "68:\tlearn: 0.0779200\ttotal: 550ms\tremaining: 247ms\n",
      "69:\tlearn: 0.0774681\ttotal: 556ms\tremaining: 238ms\n",
      "70:\tlearn: 0.0771858\ttotal: 561ms\tremaining: 229ms\n",
      "71:\tlearn: 0.0766726\ttotal: 568ms\tremaining: 221ms\n",
      "72:\tlearn: 0.0761537\ttotal: 573ms\tremaining: 212ms\n",
      "73:\tlearn: 0.0757349\ttotal: 579ms\tremaining: 204ms\n",
      "74:\tlearn: 0.0753973\ttotal: 586ms\tremaining: 195ms\n",
      "75:\tlearn: 0.0748736\ttotal: 592ms\tremaining: 187ms\n",
      "76:\tlearn: 0.0744713\ttotal: 598ms\tremaining: 179ms\n",
      "77:\tlearn: 0.0741927\ttotal: 604ms\tremaining: 170ms\n",
      "78:\tlearn: 0.0739122\ttotal: 609ms\tremaining: 162ms\n",
      "79:\tlearn: 0.0734540\ttotal: 616ms\tremaining: 154ms\n",
      "80:\tlearn: 0.0730570\ttotal: 622ms\tremaining: 146ms\n",
      "81:\tlearn: 0.0725675\ttotal: 628ms\tremaining: 138ms\n",
      "82:\tlearn: 0.0721030\ttotal: 634ms\tremaining: 130ms\n",
      "83:\tlearn: 0.0716467\ttotal: 640ms\tremaining: 122ms\n",
      "84:\tlearn: 0.0714275\ttotal: 647ms\tremaining: 114ms\n",
      "85:\tlearn: 0.0708742\ttotal: 652ms\tremaining: 106ms\n",
      "86:\tlearn: 0.0705920\ttotal: 659ms\tremaining: 98.5ms\n",
      "87:\tlearn: 0.0705021\ttotal: 666ms\tremaining: 90.8ms\n",
      "88:\tlearn: 0.0700508\ttotal: 672ms\tremaining: 83.1ms\n",
      "89:\tlearn: 0.0699002\ttotal: 679ms\tremaining: 75.4ms\n",
      "90:\tlearn: 0.0695209\ttotal: 685ms\tremaining: 67.7ms\n",
      "91:\tlearn: 0.0691719\ttotal: 690ms\tremaining: 60ms\n",
      "92:\tlearn: 0.0687636\ttotal: 696ms\tremaining: 52.4ms\n",
      "93:\tlearn: 0.0683604\ttotal: 702ms\tremaining: 44.8ms\n",
      "94:\tlearn: 0.0679957\ttotal: 709ms\tremaining: 37.3ms\n",
      "95:\tlearn: 0.0677267\ttotal: 714ms\tremaining: 29.8ms\n",
      "96:\tlearn: 0.0673517\ttotal: 720ms\tremaining: 22.3ms\n",
      "97:\tlearn: 0.0668066\ttotal: 727ms\tremaining: 14.8ms\n",
      "98:\tlearn: 0.0666323\ttotal: 733ms\tremaining: 7.4ms\n",
      "99:\tlearn: 0.0662992\ttotal: 739ms\tremaining: 0us\n",
      "CatBoostRegressor\n",
      "Model performance for Training set\n",
      "- Mean Absolute Error: 0.0519\n",
      "- R2 Score: 0.9908\n",
      "----------------------------------\n",
      "Model performance for Test set\n",
      "- Mean Absolute Error: 0.0763\n",
      "- R2 Score: 0.9743\n",
      "===================================\n",
      "\n",
      "\n"
     ]
    }
   ],
   "source": [
    "best_models = {\n",
    "    \"Random Forest Regressor\": RandomForestRegressor(**model_param['Random_Forest']),\n",
    "    \"KNeighborsRegressor\": KNeighborsRegressor(**model_param['KNN']),\n",
    "    \"XGBRegressor\": XGBRegressor(**model_param['XGBoost'],n_jobs=-1),\n",
    "    \"CatBoostRegressor\":CatBoostRegressor(**model_param['CATBOOST'])\n",
    "}\n",
    "tuned_report =evaluate_models(X, Y, models=best_models)"
   ]
  },
  {
   "cell_type": "code",
   "execution_count": 22,
   "metadata": {},
   "outputs": [
    {
     "data": {
      "text/html": [
       "<div>\n",
       "<style scoped>\n",
       "    .dataframe tbody tr th:only-of-type {\n",
       "        vertical-align: middle;\n",
       "    }\n",
       "\n",
       "    .dataframe tbody tr th {\n",
       "        vertical-align: top;\n",
       "    }\n",
       "\n",
       "    .dataframe thead th {\n",
       "        text-align: right;\n",
       "    }\n",
       "</style>\n",
       "<table border=\"1\" class=\"dataframe\">\n",
       "  <thead>\n",
       "    <tr style=\"text-align: right;\">\n",
       "      <th></th>\n",
       "      <th>Model Name</th>\n",
       "      <th>R2_Score</th>\n",
       "    </tr>\n",
       "  </thead>\n",
       "  <tbody>\n",
       "    <tr>\n",
       "      <th>1</th>\n",
       "      <td>KNeighborsRegressor</td>\n",
       "      <td>0.986010</td>\n",
       "    </tr>\n",
       "    <tr>\n",
       "      <th>3</th>\n",
       "      <td>CatBoostRegressor</td>\n",
       "      <td>0.974264</td>\n",
       "    </tr>\n",
       "    <tr>\n",
       "      <th>0</th>\n",
       "      <td>Random Forest Regressor</td>\n",
       "      <td>0.973571</td>\n",
       "    </tr>\n",
       "    <tr>\n",
       "      <th>2</th>\n",
       "      <td>XGBRegressor</td>\n",
       "      <td>0.963206</td>\n",
       "    </tr>\n",
       "  </tbody>\n",
       "</table>\n",
       "</div>"
      ],
      "text/plain": [
       "                Model Name  R2_Score\n",
       "1      KNeighborsRegressor  0.986010\n",
       "3        CatBoostRegressor  0.974264\n",
       "0  Random Forest Regressor  0.973571\n",
       "2             XGBRegressor  0.963206"
      ]
     },
     "execution_count": 22,
     "metadata": {},
     "output_type": "execute_result"
    }
   ],
   "source": [
    "tuned_report"
   ]
  },
  {
   "cell_type": "code",
   "execution_count": 23,
   "metadata": {},
   "outputs": [
    {
     "name": "stdout",
     "output_type": "stream",
     "text": [
      " Accuracy of the model is 98.60\n"
     ]
    }
   ],
   "source": [
    "best_model = KNeighborsRegressor(**model_param['KNN'])\n",
    "best_model = best_model.fit(X_train,y_train)\n",
    "y_pred = best_model.predict(X_test)\n",
    "score = r2_score(y_test, y_pred)*100\n",
    "print(\" Accuracy of the model is %.2f\" %score)"
   ]
  },
  {
   "cell_type": "markdown",
   "metadata": {},
   "source": [
    "#### 2.6 Plotting y-Pred and y_test"
   ]
  },
  {
   "cell_type": "code",
   "execution_count": 24,
   "metadata": {},
   "outputs": [
    {
     "data": {
      "image/png": "[encoded data removed]",
      "text/plain": [
       "<Figure size 640x480 with 1 Axes>"
      ]
     },
     "metadata": {},
     "output_type": "display_data"
    }
   ],
   "source": [
    "plt.style.use('dark_background')\n",
    "\n",
    "plt.scatter(y_test, y_pred, c='cyan', label='Data Points') \n",
    "plt.xlabel('Actual')\n",
    "plt.ylabel('Predicted')\n",
    "plt.title('Actual vs Predicted with Trend Line')\n",
    "plt.grid(True, linestyle='--', alpha=0.5)\n",
    "plt.legend()\n",
    "plt.show()\n"
   ]
  },
  {
   "cell_type": "code",
   "execution_count": 25,
   "metadata": {},
   "outputs": [
    {
     "data": {
      "image/png": "[encoded data removed]",
      "text/plain": [
       "<Figure size 640x480 with 1 Axes>"
      ]
     },
     "metadata": {},
     "output_type": "display_data"
    }
   ],
   "source": [
    "sns.regplot(x=y_test,y=y_pred,ci=None,color ='red');"
   ]
  },
  {
   "cell_type": "code",
   "execution_count": null,
   "metadata": {},
   "outputs": [],
   "source": []
  }
 ],
 "metadata": {
  "kernelspec": {
   "display_name": "bani",
   "language": "python",
   "name": "python3"
  },
  "language_info": {
   "codemirror_mode": {
    "name": "ipython",
    "version": 3
   },
   "file_extension": ".py",
   "mimetype": "text/x-python",
   "name": "python",
   "nbconvert_exporter": "python",
   "pygments_lexer": "ipython3",
   "version": "3.10.15"
  }
 },
 "nbformat": 4,
 "nbformat_minor": 2
}
